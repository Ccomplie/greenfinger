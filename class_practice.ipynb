{
 "cells": [
  {
   "cell_type": "code",
   "execution_count": 1,
   "metadata": {},
   "outputs": [
    {
     "name": "stdout",
     "output_type": "stream",
     "text": [
      "version = 1.14.3\n"
     ]
    }
   ],
   "source": [
    "import openai \n",
    "print(\"version =\",openai.__version__)"
   ]
  },
  {
   "cell_type": "code",
   "execution_count": 2,
   "metadata": {},
   "outputs": [],
   "source": [
    "api_key_str = \"sk-EDSO4Dei0GykODa7KBqFOXZquNshe1hNeXOVsg2aU00t0TkV\""
   ]
  },
  {
   "cell_type": "code",
   "execution_count": 3,
   "metadata": {},
   "outputs": [
    {
     "name": "stdout",
     "output_type": "stream",
     "text": [
      "ChatCompletionMessage(content='研究思路：\\n本文综述了人工智能在机器人辅助手术中的应用，主要从医学图像处理、手术规划与导航、手术机器人运动控制与决策三个方面进行探讨。研究旨在通过人工智能技术提高机器人辅助手术的精度、安全性和自主性，以应对手术过程中的复杂性和不确定性。\\n\\n研究方法：\\n1. 医学图像处理：利用深度学习技术对医学影像数据进行处理，包括图像重建与增强、图像分割、图像配准和病变检测与诊断，以提高图像质量和提取有价值的诊断信息。\\n2. 手术规划与导航：结合患者的个性化数据和医生经验，使用人工智能算法进行手术风险预测和手术过程中的精确定位，提供实时导航指导。\\n3. 手术机器人运动控制与决策：通过人工智能算法分析手术场景的复杂信息，辅助机器人进行精细的运动控制和智能化决策，提高手术机器人的操作性能。\\n\\n研究结论：\\n人工智能的发展为机器人辅助手术带来了新的机遇，使其朝着微创、智能和自主化的方向发展。通过医学图像处理技术，医生能够更准确地获取和分析医学影像数据。人工智能在手术规划与导航方面的应用使得外科医生能够更精确地规划手术方案。此外，手术机器人运动控制与决策方面的应用使机器人能够更有效地执行任务。然而，人工智能在机器人辅助手术的发展中仍面临一些挑战，如模型的可解释性、临床数据的需求、医疗信息共享的安全性以及智能手术机器人产品标准和审批的完善等问题。未来研究需要在这些方面进行深入探索，以推动人工智能与机器人辅助手术技术的进一步发展。', role='assistant', function_call=None, tool_calls=None)\n"
     ]
    }
   ],
   "source": [
    "from openai import OpenAI\n",
    "\n",
    "client = OpenAI(\n",
    "    api_key=api_key_str,\n",
    "    base_url=\"https://api.moonshot.cn/v1\",\n",
    ")\n",
    "\n",
    "from pathlib import Path\n",
    "from openai import OpenAI\n",
    " \n",
    "pathpdf = '01.pdf'\n",
    "file_object = client.files.create(file=Path(pathpdf), purpose=\"file-extract\")\n",
    "\n",
    "file_content = client.files.content(file_id=file_object.id).text\n",
    " \n",
    "prompt_str = \"你是文本分析专家，请理解给定的论文，给出文本的研究思路,研究方法和研究结论。\"\n",
    "messages=[\n",
    "    {\n",
    "        \"role\": \"system\",\n",
    "        \"content\": prompt_str\n",
    "    },\n",
    "    {\n",
    "        \"role\": \"system\",\n",
    "        \"content\": file_content,\n",
    "    },\n",
    "    {\"role\": \"user\", \"content\": '请回答'+ pathpdf +\"这篇论文的研究思路,研究方法和研究结论\"},\n",
    "]\n",
    " \n",
    "\n",
    "completion = client.chat.completions.create(\n",
    "  model=\"moonshot-v1-32k\",\n",
    "  messages=messages,\n",
    "  temperature=0.3,\n",
    ")\n",
    " \n",
    "print(completion.choices[0].message)"
   ]
  }
 ],
 "metadata": {
  "kernelspec": {
   "display_name": "py_date_anylist",
   "language": "python",
   "name": "python3"
  },
  "language_info": {
   "codemirror_mode": {
    "name": "ipython",
    "version": 3
   },
   "file_extension": ".py",
   "mimetype": "text/x-python",
   "name": "python",
   "nbconvert_exporter": "python",
   "pygments_lexer": "ipython3",
   "version": "3.12.2"
  }
 },
 "nbformat": 4,
 "nbformat_minor": 2
}
